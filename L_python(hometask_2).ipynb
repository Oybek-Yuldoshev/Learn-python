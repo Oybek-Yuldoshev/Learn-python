{
 "cells": [
  {
   "cell_type": "code",
   "execution_count": null,
   "id": "bf44c090",
   "metadata": {},
   "outputs": [],
   "source": []
  },
  {
   "cell_type": "code",
   "execution_count": 16,
   "id": "a4caf518",
   "metadata": {},
   "outputs": [
    {
     "name": "stdout",
     "output_type": "stream",
     "text": [
      "40.0\n",
      "Salom, mening ismim Oybek, yoshim 21 da\n"
     ]
    }
   ],
   "source": [
    "a = 8\n",
    "a += 80\n",
    "a /= 11\n",
    "a *= 5\n",
    "print(a)\n",
    "satr = \"Salom, \"\n",
    "satr+=\"mening ismim\"\n",
    "satr+=\" Oybek,\"\n",
    "satr +=\" yoshim 21 da\"\n",
    "print(satr)"
   ]
  },
  {
   "cell_type": "code",
   "execution_count": null,
   "id": "7a3ddcc2",
   "metadata": {},
   "outputs": [],
   "source": [
    "b = float(input(\"Iltimos, biror son kiritsangiz)\"))\n",
    "print(\"Men shu sonning 11-darajasini aytaman, qizig'i bu juda ham oson)\\n\")\n",
    "print(str(b) + \" ning 11-darajasi \" + str(b**11) + \" ga teng\")"
   ]
  },
  {
   "cell_type": "code",
   "execution_count": null,
   "id": "0ec991cd",
   "metadata": {},
   "outputs": [],
   "source": [
    "#Kutubxona\n",
    "ism = input(\"Salom ism familiyangizni aytsangiz\")\n",
    "ism = ism.title()\n",
    "kitob = input(f\"{ism} sizga qaysi kitob kerak?\")\n",
    "muddat = input(f\"{ism} {kitob} ni qancha muddatga olmoqchisiz? (necha kunga)\")\n",
    "tamom = print(f\"{ism} sizga {kitob} kitobini {muddat} ga rasmiylashitirib berdim. Iltimos vaqtida olib kelishni unutmang :)\")"
   ]
  },
  {
   "cell_type": "code",
   "execution_count": null,
   "id": "183846b6",
   "metadata": {},
   "outputs": [],
   "source": [
    "print(\"*********\\n*\\n*\\n*********\\n\\t*\\n\\t*\\n*********\")"
   ]
  },
  {
   "cell_type": "code",
   "execution_count": null,
   "id": "57f373f6",
   "metadata": {},
   "outputs": [],
   "source": [
    "print(\"*********\\n*\\t*\\n*\\t*\\n*********\\n*\\t*\\n*\\t*\\n*********\")"
   ]
  },
  {
   "cell_type": "code",
   "execution_count": null,
   "id": "6c0a4d07",
   "metadata": {},
   "outputs": [],
   "source": [
    "print(\"*********\\n*\\t\\n*\\t\\n*********\\n*\\t*\\n*\\t*\\n*********\")"
   ]
  },
  {
   "cell_type": "code",
   "execution_count": null,
   "id": "0e74a44e",
   "metadata": {},
   "outputs": [],
   "source": [
    "print(\"*\\t*\\n*\\t*\\n*\\t*\\n*********\\n \\t*\\n \\t*\\n \\t*\")"
   ]
  },
  {
   "cell_type": "code",
   "execution_count": null,
   "id": "da8bd663",
   "metadata": {},
   "outputs": [],
   "source": [
    "ism = input(\"Salom ismingiz nima? \")\n",
    "a = input(f\"{ism} sizga qaysi fanlar sizga yoqadi?\")\n",
    "print(f\"{ism} {a} fanlari chindan ham qiziq!)\")\n",
    "\n"
   ]
  },
  {
   "cell_type": "code",
   "execution_count": null,
   "id": "9e29e012",
   "metadata": {},
   "outputs": [],
   "source": [
    "print(\"{2}ning narxi 10000 so'm, {0}ning narxi 15000 so'm, {1}ning narxi 20000 so'm, {3}ning narxini ayta olmaymiz chunki qolgani yo'q\". format(\"olma\", \"banan\", \"gilos\", \"ananas\"))"
   ]
  },
  {
   "cell_type": "code",
   "execution_count": null,
   "id": "dc7e1bbb",
   "metadata": {},
   "outputs": [],
   "source": [
    "#taxi\n",
    "\n",
    "a = input(\"Salom sizni qaysi manzilga olib borib qoyish kerak?\")\n",
    "b = input(f\"{a} ga borishlik 25000 so'm bo'ladi\")"
   ]
  },
  {
   "cell_type": "code",
   "execution_count": null,
   "id": "6d558946",
   "metadata": {},
   "outputs": [],
   "source": [
    "#dokon \n",
    "\n",
    "print(\"Salom do'konimizga xush kelibsiz!\")\n",
    "a = input(\"Sizga qanday mahsulotlar kerak?\")\n",
    "print(f\"{a} savatga solindi!\")\n",
    "print(\"bizda {0} 12000 so'm, {1} 15000 so'm, {2} 13000 so'm, {3} 5000 so'm\". format(\"olma\", \"Coca Cola\", \"Pepsi\", \"non\"))"
   ]
  },
  {
   "cell_type": "code",
   "execution_count": null,
   "id": "0d02d0df",
   "metadata": {},
   "outputs": [],
   "source": []
  }
 ],
 "metadata": {
  "kernelspec": {
   "display_name": "Python 3",
   "language": "python",
   "name": "python3"
  },
  "language_info": {
   "codemirror_mode": {
    "name": "ipython",
    "version": 3
   },
   "file_extension": ".py",
   "mimetype": "text/x-python",
   "name": "python",
   "nbconvert_exporter": "python",
   "pygments_lexer": "ipython3",
   "version": "3.8.8"
  }
 },
 "nbformat": 4,
 "nbformat_minor": 5
}
