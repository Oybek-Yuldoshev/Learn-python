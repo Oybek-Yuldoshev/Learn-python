{
 "cells": [
  {
   "cell_type": "code",
   "execution_count": 1,
   "id": "f1ca1c90",
   "metadata": {},
   "outputs": [
    {
     "name": "stdout",
     "output_type": "stream",
     "text": [
      "Assalomu alaykum barchaga!\n"
     ]
    }
   ],
   "source": [
    "print('Assalomu alaykum barchaga!')\n"
   ]
  },
  {
   "cell_type": "code",
   "execution_count": 2,
   "id": "1b9e63dc",
   "metadata": {},
   "outputs": [
    {
     "name": "stdout",
     "output_type": "stream",
     "text": [
      "Nega hamma jim bo'lib qoldi?\n"
     ]
    }
   ],
   "source": [
    "print(\"Nega hamma jim bo'lib qoldi?\")"
   ]
  },
  {
   "cell_type": "code",
   "execution_count": 6,
   "id": "778a52c3",
   "metadata": {},
   "outputs": [
    {
     "name": "stdout",
     "output_type": "stream",
     "text": [
      "Bugun 12 Avgust\n"
     ]
    }
   ],
   "source": [
    "sana = 12\n",
    "oy = \"Avgust\"\n",
    "print(\"Bugun \" + str(sana) + \" \" + oy)"
   ]
  },
  {
   "cell_type": "code",
   "execution_count": 7,
   "id": "d025f278",
   "metadata": {},
   "outputs": [
    {
     "name": "stdout",
     "output_type": "stream",
     "text": [
      "Bugun 12 Avgust 1-dars bo'lyapti\n"
     ]
    }
   ],
   "source": [
    "sana = 12\n",
    "oy = \"Avgust\"\n",
    "number = 1\n",
    "print(f\"Bugun {sana} {oy} {number}-dars bo'lyapti\")"
   ]
  },
  {
   "cell_type": "code",
   "execution_count": 8,
   "id": "f80d7361",
   "metadata": {},
   "outputs": [
    {
     "name": "stdout",
     "output_type": "stream",
     "text": [
      "45\n"
     ]
    }
   ],
   "source": [
    "a = 25\n",
    "b = 32\n",
    "c= -12\n",
    "print(a+b+c)"
   ]
  },
  {
   "cell_type": "code",
   "execution_count": 9,
   "id": "c09dd36c",
   "metadata": {},
   "outputs": [
    {
     "name": "stdout",
     "output_type": "stream",
     "text": [
      "2430\n"
     ]
    }
   ],
   "source": [
    "d = 45\n",
    "e = 54\n",
    "print(d*e)"
   ]
  },
  {
   "cell_type": "code",
   "execution_count": 11,
   "id": "2978952d",
   "metadata": {},
   "outputs": [
    {
     "name": "stdout",
     "output_type": "stream",
     "text": [
      "Yoshingizni kiriting: 21\n",
      "Siz 2000-yilda tavallud topgansiz!\n"
     ]
    }
   ],
   "source": [
    "yosh = input(\"Yoshingizni kiriting: \")\n",
    "print(\"Siz \" + str(int(2021)-int(yosh)) + \"-yilda tavallud topgansiz!\")"
   ]
  },
  {
   "cell_type": "code",
   "execution_count": 15,
   "id": "51491f6f",
   "metadata": {},
   "outputs": [
    {
     "name": "stdout",
     "output_type": "stream",
     "text": [
      "Siz 2022-yilda 22 ga kirasiz!\n"
     ]
    }
   ],
   "source": [
    "print(\"Siz 2022-yilda \" + str(int(yosh) + 1) + \" ga kirasiz!\")"
   ]
  },
  {
   "cell_type": "code",
   "execution_count": 1,
   "id": "3ccf31ea",
   "metadata": {},
   "outputs": [
    {
     "name": "stdout",
     "output_type": "stream",
     "text": [
      "Siz qaysi tillarni bilasiz? rus tili, ingliz tili, koreys tili\n",
      "Qoyil qoldime, rus tili, ingliz tili, koreys tilisiz shu tillarni bilar ekansiz. Ammo o'rganishda davom eting ;)\n"
     ]
    }
   ],
   "source": [
    "til = input(\"Siz qaysi tillarni bilasiz? \")\n",
    "print(\"Qoyil qoldime, \" + til + \"! Siz shu tillarni bilar ekansiz. Ammo o'rganishda davom eting ;)\")\n"
   ]
  },
  {
   "cell_type": "code",
   "execution_count": 2,
   "id": "fb44b56b",
   "metadata": {},
   "outputs": [
    {
     "name": "stdout",
     "output_type": "stream",
     "text": [
      "Sizga qaysi raqam yoqadi? 4\n",
      "Sizga 4 yoqsa, menga esa 8 raqami yoqadi. :)\n"
     ]
    }
   ],
   "source": [
    "son = input(\"Sizga qaysi raqam yoqadi? \")\n",
    "print(\"Sizga \" + son + \" yoqsa, menga esa 8 raqami yoqadi. :)\")\n"
   ]
  },
  {
   "cell_type": "code",
   "execution_count": 4,
   "id": "788eeb89",
   "metadata": {},
   "outputs": [
    {
     "name": "stdout",
     "output_type": "stream",
     "text": [
      "Istalgan ikki soningizni darajaga ko'tarib beramiz!\n",
      "Sonni kiritiing:\n",
      ">>>  5\n",
      "Nechanchi darajaga ko'taramiz? \n",
      ">>>2\n",
      "NATIJA\n",
      "25.0\n"
     ]
    }
   ],
   "source": [
    "print(\"Istalgan ikki soningizni darajaga ko'tarib beramiz!\")\n",
    "a = float(input(\"Sonni kiritiing:\\n>>>  \"))\n",
    "daraja = float(input(\"Nechanchi darajaga ko'taramiz? \\n>>>\"))\n",
    "print(\"NATIJA\\n\" +str(a**daraja))"
   ]
  },
  {
   "cell_type": "code",
   "execution_count": null,
   "id": "5c15d4bd",
   "metadata": {},
   "outputs": [],
   "source": []
  }
 ],
 "metadata": {
  "kernelspec": {
   "display_name": "Python 3",
   "language": "python",
   "name": "python3"
  },
  "language_info": {
   "codemirror_mode": {
    "name": "ipython",
    "version": 3
   },
   "file_extension": ".py",
   "mimetype": "text/x-python",
   "name": "python",
   "nbconvert_exporter": "python",
   "pygments_lexer": "ipython3",
   "version": "3.8.8"
  }
 },
 "nbformat": 4,
 "nbformat_minor": 5
}
